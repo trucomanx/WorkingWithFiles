{
 "cells": [
  {
   "cell_type": "code",
   "execution_count": 1,
   "id": "270364ec-1bb3-4392-ba87-73cfb31a983b",
   "metadata": {},
   "outputs": [
    {
     "name": "stdout",
     "output_type": "stream",
     "text": [
      "Archive:  dataset.zip\n",
      "   creating: dataset/\n",
      "   creating: dataset/dir1/\n",
      " extracting: dataset/dir1/filename6.png  \n",
      "  inflating: dataset/dir1/filename7.png  \n",
      "  inflating: dataset/dir1/filename8.png  \n",
      "   creating: dataset/dir2/\n",
      " extracting: dataset/dir2/filename6.png  \n",
      "  inflating: dataset/dir2/filename7.png  \n",
      "  inflating: dataset/dir2/filename8.png  \n",
      "  inflating: dataset/example.csv     \n",
      "  inflating: dataset/filename1.png   \n",
      "  inflating: dataset/filename2.png   \n",
      "  inflating: dataset/filename3.png   \n",
      "  inflating: dataset/filename4.png   \n",
      "  inflating: dataset/filename5.png   \n",
      " extracting: dataset/filename6.png   \n",
      "  inflating: dataset/filename7.png   \n",
      "  inflating: dataset/filename8.png   \n"
     ]
    }
   ],
   "source": [
    "#!/usr/bin/python\n",
    "\n",
    "import os\n",
    "import sys\n",
    "\n",
    "sys.path.append('../src');\n",
    "import WorkingWithFiles as rnfunc\n",
    "\n",
    "!unzip dataset.zip \n"
   ]
  },
  {
   "cell_type": "code",
   "execution_count": 2,
   "id": "3e7eb837-faf3-4b50-9b4a-4eea750851e2",
   "metadata": {},
   "outputs": [],
   "source": [
    "lista1=rnfunc.get_all_files_in_dir_list(['dataset'],formats_search=['.png']);"
   ]
  },
  {
   "cell_type": "code",
   "execution_count": 3,
   "id": "b6b6e023-5500-4fea-8586-cf0ca93eea16",
   "metadata": {},
   "outputs": [
    {
     "name": "stdout",
     "output_type": "stream",
     "text": [
      "dataset/dir1/filename6.png\n",
      "dataset/dir1/filename7.png\n",
      "dataset/dir1/filename8.png\n",
      "dataset/dir2/filename6.png\n",
      "dataset/dir2/filename7.png\n",
      "dataset/dir2/filename8.png\n",
      "dataset/filename1.png\n",
      "dataset/filename2.png\n",
      "dataset/filename3.png\n",
      "dataset/filename4.png\n",
      "dataset/filename5.png\n",
      "dataset/filename6.png\n",
      "dataset/filename7.png\n",
      "dataset/filename8.png\n"
     ]
    }
   ],
   "source": [
    "for dat in lista1:\n",
    "    print(dat)\n",
    "    "
   ]
  },
  {
   "cell_type": "code",
   "execution_count": 6,
   "id": "f542c1b3-2741-4b0d-a2c0-5e214d84a353",
   "metadata": {},
   "outputs": [],
   "source": [
    "lista1=rnfunc.get_all_files_in_dir('dataset',formats_search=['.png'],is_relative=True);\n"
   ]
  },
  {
   "cell_type": "code",
   "execution_count": 7,
   "id": "88ca33b9-de13-4f95-b024-f272175d0eb5",
   "metadata": {},
   "outputs": [
    {
     "name": "stdout",
     "output_type": "stream",
     "text": [
      "dir1/filename6.png\n",
      "dir1/filename7.png\n",
      "dir1/filename8.png\n",
      "dir2/filename6.png\n",
      "dir2/filename7.png\n",
      "dir2/filename8.png\n",
      "filename1.png\n",
      "filename2.png\n",
      "filename3.png\n",
      "filename4.png\n",
      "filename5.png\n",
      "filename6.png\n",
      "filename7.png\n",
      "filename8.png\n"
     ]
    }
   ],
   "source": [
    "for dat in lista1:\n",
    "    print(dat)"
   ]
  },
  {
   "cell_type": "code",
   "execution_count": null,
   "id": "6add8400-0212-40a1-9d8b-62dcacc039f2",
   "metadata": {},
   "outputs": [],
   "source": []
  },
  {
   "cell_type": "code",
   "execution_count": null,
   "id": "46f86ce0-19f2-424e-8b77-445a1b7ef025",
   "metadata": {},
   "outputs": [],
   "source": []
  }
 ],
 "metadata": {
  "kernelspec": {
   "display_name": "Python 3",
   "language": "python",
   "name": "python3"
  },
  "language_info": {
   "codemirror_mode": {
    "name": "ipython",
    "version": 3
   },
   "file_extension": ".py",
   "mimetype": "text/x-python",
   "name": "python",
   "nbconvert_exporter": "python",
   "pygments_lexer": "ipython3",
   "version": "3.8.10"
  }
 },
 "nbformat": 4,
 "nbformat_minor": 5
}
